{
 "cells": [
  {
   "cell_type": "markdown",
   "metadata": {},
   "source": [
    "# 02.Selenium"
   ]
  },
  {
   "cell_type": "markdown",
   "metadata": {},
   "source": [
    "In this notebook, I decided to pull more data of aircrafts from the website by using Selenium. The original dataset contains the tail number of the each flights recorded, which are unique identifier. Flightradar24.com has aircrafts information of manufacturer, model and ages of the each aircrafts. I decided to use those new data as my variables in my model. "
   ]
  },
  {
   "cell_type": "markdown",
   "metadata": {},
   "source": [
    "### Scrap aircraft information by tailno, unique identifier, to use a variable\n",
    "##### Which one has higher chances of delays?\n",
    "- By company: Boeing v. Airbus \n",
    "- By aircraft models: B747 / A380 / B777 / A350 / B787 : certain aircraft models have higher chances?\n",
    "- By ages: Older v. Newer aircraft"
   ]
  },
  {
   "cell_type": "code",
   "execution_count": 1,
   "metadata": {
    "scrolled": true
   },
   "outputs": [],
   "source": [
    "# Libraries and packages\n",
    "\n",
    "import pandas as pd\n",
    "import numpy as np\n",
    "import seaborn as sns\n",
    "import matplotlib.pyplot as plt\n",
    "%matplotlib inline\n",
    "\n",
    "import datetime\n",
    "import requests\n",
    "from bs4 import BeautifulSoup\n",
    "\n",
    "import time\n",
    "from selenium import webdriver\n",
    "import re"
   ]
  },
  {
   "cell_type": "code",
   "execution_count": 2,
   "metadata": {},
   "outputs": [
    {
     "name": "stdout",
     "output_type": "stream",
     "text": [
      "Holidays dataframe dimensions(shape)  :  (7084008, 31)\n",
      "Washington dataframe dimensions(shape):  (2204853, 31)\n"
     ]
    }
   ],
   "source": [
    "# Read dataset\n",
    "holidays   = pd.read_csv('./assets/holidays.csv', low_memory=False) \n",
    "washington = pd.read_csv('./assets/washington.csv', low_memory=False)\n",
    "\n",
    "print(\"Holidays dataframe dimensions(shape)  : \", holidays.shape)\n",
    "print(\"Washington dataframe dimensions(shape): \", washington.shape)"
   ]
  },
  {
   "cell_type": "code",
   "execution_count": 33,
   "metadata": {},
   "outputs": [],
   "source": [
    "# currently all the departure/arrival time were set only 4 digits interger\n",
    "# between 0001 to 2400. Therefore, convert it into datetime function\n",
    "\n",
    "def time_converter(hr):\n",
    "    if pd.isnull(hr):\n",
    "        return np.nan\n",
    "    else:\n",
    "        if hr == 2400: hr = 0\n",
    "        # set 4 digits \n",
    "        hr = \"{0:04d}\".format(int(hr)) \n",
    "        hour = datetime.time(int(hr[0:2]), int(hr[2:4]))\n",
    "        return hour\n",
    "\n",
    "# change columns name\n",
    "mapping ={\n",
    "    'Year': 'year',\n",
    "    'Month': 'month',\n",
    "    'DayofMonth': 'day',\n",
    "    'DayOfWeek': 'dayofweek',\n",
    "    'Carrier': 'carrier',\n",
    "    'TailNum': 'tail_no',\n",
    "    'FlightNum': 'flight_no',\n",
    "    'Origin': 'origin',\n",
    "    'Dest': 'dest',\n",
    "    'CRSDepTime': 'sched_dep',\n",
    "    'DepTime': 'dep_time',\n",
    "    'DepDelay': 'dep_delay',\n",
    "    'TaxiOut': 'taxi_out',\n",
    "    'WheelsOff': 'wheels_off',\n",
    "    'WheelsOn': 'wheels_on',\n",
    "    'TaxiIn': 'taxi_in',\n",
    "    'CRSArrTime': 'sched_arr',\n",
    "    'ArrTime': 'arr_time',\n",
    "    'ArrDelay': 'arr_delay',\n",
    "    'Cancelled': 'cancelled',\n",
    "    'CancellationCode': 'cancel_code',\n",
    "    'Diverted': 'diverted',\n",
    "    'CRSElapsedTime': 'sched_elapsed',\n",
    "    'ActualElapsedTime': 'elapsed_time',\n",
    "    'AirTime': 'air_time',\n",
    "    'Distance': 'distance',\n",
    "    'CarrierDelay': 'carrier_delay',\n",
    "    'WeatherDelay': 'weather_delay',\n",
    "    'NASDelay': 'system_delay',\n",
    "    'SecurityDelay': 'security_delay',\n",
    "    'LateAircraftDelay': 'late_aircraft_delay'\n",
    "}\n",
    "\n",
    "day_map = {\n",
    "    '1': 'Mon', '2': 'Tue', '3': 'Wed', '4': 'Thu',\n",
    "    '5': 'Fri', '6': 'Sat', '7': 'Sun'\n",
    "}\n",
    "\n",
    "def preprocessing(df):\n",
    "    # easier to work with lowercase columns\n",
    "    df = df.rename(columns=mapping)\n",
    "    \n",
    "    # convert it to datetime\n",
    "    df['date'] = pd.to_datetime(df[['year', 'month', 'day']])\n",
    "    \n",
    "    # apply time converter to dep/arr time\n",
    "    times = ['sched_dep', 'dep_time', 'sched_arr', 'arr_time']\n",
    "    for x in times:\n",
    "        df[x] = df[x].apply(time_converter)\n",
    "    \n",
    "    # apply dayofweek\n",
    "    df['dayofweek'] = df['dayofweek'].astype(str).map(day_map)\n",
    "    \n",
    "    # fill tail_no\n",
    "    df['tail_no'] = df['tail_no'].fillna('na')\n",
    "    return df"
   ]
  },
  {
   "cell_type": "code",
   "execution_count": 34,
   "metadata": {},
   "outputs": [],
   "source": [
    "holidays   = preprocessing(holidays)\n",
    "washington = preprocessing(washington)"
   ]
  },
  {
   "cell_type": "markdown",
   "metadata": {},
   "source": [
    "# Selenium code below won't be working, since I diabled to share the log-in credential."
   ]
  },
  {
   "cell_type": "code",
   "execution_count": null,
   "metadata": {},
   "outputs": [],
   "source": [
    "stop_dont_run_the_code_afterward"
   ]
  },
  {
   "cell_type": "markdown",
   "metadata": {},
   "source": [
    "##### Selenium"
   ]
  },
  {
   "cell_type": "code",
   "execution_count": 15,
   "metadata": {
    "scrolled": true
   },
   "outputs": [],
   "source": [
    "tails=list(set(holidays.tail_no))\n",
    "\n",
    "# set detour redirect address, in case the website doesn't have the page\n",
    "detour = 'https://www.flightradar24.com/data/aircraft/'"
   ]
  },
  {
   "cell_type": "code",
   "execution_count": 21,
   "metadata": {},
   "outputs": [
    {
     "data": {
      "text/plain": [
       "6459"
      ]
     },
     "execution_count": 21,
     "metadata": {},
     "output_type": "execute_result"
    }
   ],
   "source": [
    "len(tails)"
   ]
  },
  {
   "cell_type": "code",
   "execution_count": null,
   "metadata": {},
   "outputs": [],
   "source": [
    "# In this public notebook, the login credential won't be specify\n",
    "EMAIL = 'email'\n",
    "PASSWORD = 'password'"
   ]
  },
  {
   "cell_type": "code",
   "execution_count": 27,
   "metadata": {},
   "outputs": [],
   "source": [
    "# courtesy of Ben Shaver\n",
    "driver = webdriver.Chrome(executable_path=\"../chromedriver\")\n",
    "url = 'https://www.flightradar24.com/premium/signup'\n",
    "driver.get(url)\n",
    "\n",
    "login_btn = driver.find_element_by_id('btnSignin')\n",
    "\n",
    "login_btn.click()\n",
    "\n",
    "email_field = driver.find_element_by_id('txtEmail')\n",
    "\n",
    "email_field.send_keys(EMAIL)\n",
    "\n",
    "password_field = driver.find_element_by_id('txtPassword')\n",
    "\n",
    "password_field.send_keys(PASSWORD)\n",
    "\n",
    "login_btn = driver.find_element_by_id('fr24-logIn')\n",
    "login_btn.click()"
   ]
  },
  {
   "cell_type": "markdown",
   "metadata": {},
   "source": [
    "##### To check my code is working properly, I initially set the range values below as smaller size and increased inclemently."
   ]
  },
  {
   "cell_type": "code",
   "execution_count": 23,
   "metadata": {
    "scrolled": true
   },
   "outputs": [
    {
     "name": "stdout",
     "output_type": "stream",
     "text": [
      "1501th url https://www.flightradar24.com/data/aircraft/N13914\n",
      "1601th url https://www.flightradar24.com/data/aircraft/N955AT\n",
      "1701th url https://www.flightradar24.com/data/aircraft/N8507C\n",
      "1801th url https://www.flightradar24.com/data/aircraft/N837MQ\n",
      "1901th url https://www.flightradar24.com/data/aircraft/N915AA\n",
      "2001th url https://www.flightradar24.com/data/aircraft/N713TW\n",
      "2101th url https://www.flightradar24.com/data/aircraft/N454AA\n",
      "2201th url https://www.flightradar24.com/data/aircraft/N14933\n",
      "2301th url https://www.flightradar24.com/data/aircraft/N906DA\n",
      "2401th url https://www.flightradar24.com/data/aircraft/N952WN\n",
      "2501th url https://www.flightradar24.com/data/aircraft/N612NK\n",
      "2601th url https://www.flightradar24.com/data/aircraft/N306DN\n",
      "2701th url https://www.flightradar24.com/data/aircraft/N587NW\n",
      "2801th url https://www.flightradar24.com/data/aircraft/N202HA\n",
      "2901th url https://www.flightradar24.com/data/aircraft/N658AW\n",
      "3001th url https://www.flightradar24.com/data/aircraft/N121UA\n",
      "3101th url https://www.flightradar24.com/data/aircraft/N905JB\n",
      "3201th url https://www.flightradar24.com/data/aircraft/N78017\n",
      "3301th url https://www.flightradar24.com/data/aircraft/N804DN\n",
      "3401th url https://www.flightradar24.com/data/aircraft/N210FR\n",
      "3501th url https://www.flightradar24.com/data/aircraft/N474UA\n",
      "3601th url https://www.flightradar24.com/data/aircraft/N247WN\n",
      "3701th url https://www.flightradar24.com/data/aircraft/N657AA\n",
      "3801th url https://www.flightradar24.com/data/aircraft/N8886A\n",
      "3901th url https://www.flightradar24.com/data/aircraft/N795UA\n",
      "4001th url https://www.flightradar24.com/data/aircraft/N8808H\n",
      "4101th url https://www.flightradar24.com/data/aircraft/N799AS\n",
      "4201th url https://www.flightradar24.com/data/aircraft/N823AA\n",
      "4301th url https://www.flightradar24.com/data/aircraft/N460WN\n",
      "4401th url https://www.flightradar24.com/data/aircraft/N69885\n",
      "4501th url https://www.flightradar24.com/data/aircraft/N3HKAA\n",
      "4601th url https://www.flightradar24.com/data/aircraft/N3FLAA\n",
      "4701th url https://www.flightradar24.com/data/aircraft/N4XKAA\n",
      "4801th url https://www.flightradar24.com/data/aircraft/N615SW\n",
      "4901th url https://www.flightradar24.com/data/aircraft/N842UA\n",
      "5001th url https://www.flightradar24.com/data/aircraft/N151AA\n",
      "5101th url https://www.flightradar24.com/data/aircraft/N151SY\n",
      "5201th url https://www.flightradar24.com/data/aircraft/N15985\n",
      "5301th url https://www.flightradar24.com/data/aircraft/N3MJAA\n",
      "5401th url https://www.flightradar24.com/data/aircraft/N3760C\n",
      "5501th url https://www.flightradar24.com/data/aircraft/N648UA\n",
      "5601th url https://www.flightradar24.com/data/aircraft/N231JB\n",
      "5701th url https://www.flightradar24.com/data/aircraft/N11548\n",
      "5801th url https://www.flightradar24.com/data/aircraft/N939UW\n",
      "5901th url https://www.flightradar24.com/data/aircraft/N931XJ\n",
      "6001th url https://www.flightradar24.com/data/aircraft/N924XJ\n",
      "6101th url https://www.flightradar24.com/data/aircraft/N18112\n",
      "6201th url https://www.flightradar24.com/data/aircraft/N801NW\n",
      "6301th url https://www.flightradar24.com/data/aircraft/N535NK\n",
      "6401th url https://www.flightradar24.com/data/aircraft/N14570\n"
     ]
    }
   ],
   "source": [
    "foo = {'tailno':[], 'aircraft':[], 'type_code':[], 'shipped':[], 'age(year)':[]}\n",
    "\n",
    "for i in range(1500,6459):\n",
    "    url = 'https://www.flightradar24.com/data/aircraft/' + tails[i]\n",
    "    driver.get(url)\n",
    "    \n",
    "    # if the current url redirected to detour url, ask to put None value and proceed\n",
    "    if driver.current_url == detour:\n",
    "        foo['tailno'].append(tails[i])\n",
    "        foo['aircraft'].append(None)\n",
    "        foo['type_code'].append(None)\n",
    "        foo['age(year)'].append(None)\n",
    "        foo['shipped'].append(None)\n",
    "        time.sleep(3)\n",
    "    else:\n",
    "        html = driver.page_source\n",
    "        soup = BeautifulSoup(html, 'lxml')\n",
    "\n",
    "        foo['tailno'].append(tails[i])\n",
    "        elems = soup.find_all('span', {'class':'details'})\n",
    "        try:\n",
    "            foo['aircraft'].append(elems[0].text.strip())\n",
    "        except:\n",
    "            foo['aircraft'].append(None)\n",
    "        try:\n",
    "            foo['type_code'].append(elems[3].text.strip())\n",
    "        except:\n",
    "            foo['type_code'].append(None)\n",
    "        try:\n",
    "            foo['age(year)'].append(elems[8].text.strip())\n",
    "        except:\n",
    "            foo['age(year)'].append(None)\n",
    "\n",
    "        age_found = False\n",
    "        for elem in soup.find_all('label'):\n",
    "            if 'AGE (' in elem.text:\n",
    "                foo['shipped'].append(elem.text.strip())\n",
    "                age_found = True\n",
    "        if not age_found:\n",
    "            foo['shipped'].append(None)\n",
    "        # sleep every iteration\n",
    "        time.sleep(2)\n",
    "    if i % 100 == 1:\n",
    "        print(\"{}th url\".format(i), url)\n",
    "\n",
    "\n",
    "aircrafts=pd.read_csv('./assets/aircrafts.csv', low_memory=False)\n",
    "bar=pd.DataFrame(foo)\n",
    "pd.concat([aircrafts,bar], ignore_index=True).to_csv('./assets/aircrafts.csv', index=False)"
   ]
  },
  {
   "cell_type": "code",
   "execution_count": 29,
   "metadata": {},
   "outputs": [],
   "source": [
    "driver.close()"
   ]
  },
  {
   "cell_type": "code",
   "execution_count": 30,
   "metadata": {},
   "outputs": [
    {
     "data": {
      "text/plain": [
       "(6459, 5)"
      ]
     },
     "execution_count": 30,
     "metadata": {},
     "output_type": "execute_result"
    }
   ],
   "source": [
    "aircrafts=pd.read_csv('./assets/aircrafts.csv', low_memory=False)\n",
    "aircrafts.shape"
   ]
  },
  {
   "cell_type": "code",
   "execution_count": 31,
   "metadata": {
    "scrolled": true
   },
   "outputs": [
    {
     "data": {
      "text/html": [
       "<div>\n",
       "<style scoped>\n",
       "    .dataframe tbody tr th:only-of-type {\n",
       "        vertical-align: middle;\n",
       "    }\n",
       "\n",
       "    .dataframe tbody tr th {\n",
       "        vertical-align: top;\n",
       "    }\n",
       "\n",
       "    .dataframe thead th {\n",
       "        text-align: right;\n",
       "    }\n",
       "</style>\n",
       "<table border=\"1\" class=\"dataframe\">\n",
       "  <thead>\n",
       "    <tr style=\"text-align: right;\">\n",
       "      <th></th>\n",
       "      <th>age(year)</th>\n",
       "      <th>aircraft</th>\n",
       "      <th>shipped</th>\n",
       "      <th>tailno</th>\n",
       "      <th>type_code</th>\n",
       "    </tr>\n",
       "  </thead>\n",
       "  <tbody>\n",
       "    <tr>\n",
       "      <th>6439</th>\n",
       "      <td>-</td>\n",
       "      <td>-</td>\n",
       "      <td>NaN</td>\n",
       "      <td>N513MQ</td>\n",
       "      <td>-</td>\n",
       "    </tr>\n",
       "    <tr>\n",
       "      <th>6440</th>\n",
       "      <td>14 years</td>\n",
       "      <td>Boeing 737-7H4</td>\n",
       "      <td>AGE (Jul 2004)</td>\n",
       "      <td>N472WN</td>\n",
       "      <td>B737</td>\n",
       "    </tr>\n",
       "    <tr>\n",
       "      <th>6441</th>\n",
       "      <td>5 years</td>\n",
       "      <td>Airbus A321-211</td>\n",
       "      <td>AGE (2013)</td>\n",
       "      <td>N198UW</td>\n",
       "      <td>A321</td>\n",
       "    </tr>\n",
       "    <tr>\n",
       "      <th>6442</th>\n",
       "      <td>1 year</td>\n",
       "      <td>Boeing 737-8H4</td>\n",
       "      <td>AGE (Dec 2016)</td>\n",
       "      <td>N8515X</td>\n",
       "      <td>B738</td>\n",
       "    </tr>\n",
       "    <tr>\n",
       "      <th>6443</th>\n",
       "      <td>30 years</td>\n",
       "      <td>Boeing 757-232</td>\n",
       "      <td>AGE (1988)</td>\n",
       "      <td>N640DL</td>\n",
       "      <td>B752</td>\n",
       "    </tr>\n",
       "    <tr>\n",
       "      <th>6444</th>\n",
       "      <td>16 years</td>\n",
       "      <td>Boeing 717-2BD</td>\n",
       "      <td>AGE (Jan 2002)</td>\n",
       "      <td>N974AT</td>\n",
       "      <td>B712</td>\n",
       "    </tr>\n",
       "    <tr>\n",
       "      <th>6445</th>\n",
       "      <td>13 years</td>\n",
       "      <td>Boeing 737-7H4</td>\n",
       "      <td>AGE (Aug 2004)</td>\n",
       "      <td>N479WN</td>\n",
       "      <td>B737</td>\n",
       "    </tr>\n",
       "    <tr>\n",
       "      <th>6446</th>\n",
       "      <td>NaN</td>\n",
       "      <td>NaN</td>\n",
       "      <td>NaN</td>\n",
       "      <td>N3ATAA</td>\n",
       "      <td>NaN</td>\n",
       "    </tr>\n",
       "    <tr>\n",
       "      <th>6447</th>\n",
       "      <td>14 years</td>\n",
       "      <td>Embraer ERJ-145XR</td>\n",
       "      <td>AGE (Aug 2003)</td>\n",
       "      <td>N17146</td>\n",
       "      <td>E45X</td>\n",
       "    </tr>\n",
       "    <tr>\n",
       "      <th>6448</th>\n",
       "      <td>20 years</td>\n",
       "      <td>McDonnell Douglas MD-90-30</td>\n",
       "      <td>AGE (Oct 1997)</td>\n",
       "      <td>N943DN</td>\n",
       "      <td>MD90</td>\n",
       "    </tr>\n",
       "    <tr>\n",
       "      <th>6449</th>\n",
       "      <td>27 years</td>\n",
       "      <td>Boeing 757-232</td>\n",
       "      <td>AGE (Jun 1991)</td>\n",
       "      <td>N668DN</td>\n",
       "      <td>B752</td>\n",
       "    </tr>\n",
       "    <tr>\n",
       "      <th>6450</th>\n",
       "      <td>30 years</td>\n",
       "      <td>-</td>\n",
       "      <td>AGE (1988)</td>\n",
       "      <td>N478AA</td>\n",
       "      <td>-</td>\n",
       "    </tr>\n",
       "    <tr>\n",
       "      <th>6451</th>\n",
       "      <td>-</td>\n",
       "      <td>-</td>\n",
       "      <td>NaN</td>\n",
       "      <td>N597HA</td>\n",
       "      <td>-</td>\n",
       "    </tr>\n",
       "    <tr>\n",
       "      <th>6452</th>\n",
       "      <td>10 years</td>\n",
       "      <td>Boeing 737-7H4</td>\n",
       "      <td>AGE (Jan 2008)</td>\n",
       "      <td>N907WN</td>\n",
       "      <td>B737</td>\n",
       "    </tr>\n",
       "    <tr>\n",
       "      <th>6453</th>\n",
       "      <td>NaN</td>\n",
       "      <td>NaN</td>\n",
       "      <td>NaN</td>\n",
       "      <td>N8LAAA</td>\n",
       "      <td>NaN</td>\n",
       "    </tr>\n",
       "    <tr>\n",
       "      <th>6454</th>\n",
       "      <td>17 years</td>\n",
       "      <td>Airbus A321-211</td>\n",
       "      <td>AGE (Feb 2001)</td>\n",
       "      <td>N169UW</td>\n",
       "      <td>A321</td>\n",
       "    </tr>\n",
       "    <tr>\n",
       "      <th>6455</th>\n",
       "      <td>19 years</td>\n",
       "      <td>Boeing 737-824</td>\n",
       "      <td>AGE (Dec 1998)</td>\n",
       "      <td>N26226</td>\n",
       "      <td>B738</td>\n",
       "    </tr>\n",
       "    <tr>\n",
       "      <th>6456</th>\n",
       "      <td>31 years</td>\n",
       "      <td>Boeing 767-332</td>\n",
       "      <td>AGE (Oct 1986)</td>\n",
       "      <td>N594HA</td>\n",
       "      <td>B763</td>\n",
       "    </tr>\n",
       "    <tr>\n",
       "      <th>6457</th>\n",
       "      <td>5 years</td>\n",
       "      <td>Boeing 737-990(ER)</td>\n",
       "      <td>AGE (Apr 2013)</td>\n",
       "      <td>N423AS</td>\n",
       "      <td>B739</td>\n",
       "    </tr>\n",
       "    <tr>\n",
       "      <th>6458</th>\n",
       "      <td>NaN</td>\n",
       "      <td>NaN</td>\n",
       "      <td>NaN</td>\n",
       "      <td>N3BHAA</td>\n",
       "      <td>NaN</td>\n",
       "    </tr>\n",
       "  </tbody>\n",
       "</table>\n",
       "</div>"
      ],
      "text/plain": [
       "     age(year)                    aircraft         shipped  tailno type_code\n",
       "6439         -                           -             NaN  N513MQ         -\n",
       "6440  14 years              Boeing 737-7H4  AGE (Jul 2004)  N472WN      B737\n",
       "6441   5 years             Airbus A321-211      AGE (2013)  N198UW      A321\n",
       "6442    1 year              Boeing 737-8H4  AGE (Dec 2016)  N8515X      B738\n",
       "6443  30 years              Boeing 757-232      AGE (1988)  N640DL      B752\n",
       "6444  16 years              Boeing 717-2BD  AGE (Jan 2002)  N974AT      B712\n",
       "6445  13 years              Boeing 737-7H4  AGE (Aug 2004)  N479WN      B737\n",
       "6446       NaN                         NaN             NaN  N3ATAA       NaN\n",
       "6447  14 years           Embraer ERJ-145XR  AGE (Aug 2003)  N17146      E45X\n",
       "6448  20 years  McDonnell Douglas MD-90-30  AGE (Oct 1997)  N943DN      MD90\n",
       "6449  27 years              Boeing 757-232  AGE (Jun 1991)  N668DN      B752\n",
       "6450  30 years                           -      AGE (1988)  N478AA         -\n",
       "6451         -                           -             NaN  N597HA         -\n",
       "6452  10 years              Boeing 737-7H4  AGE (Jan 2008)  N907WN      B737\n",
       "6453       NaN                         NaN             NaN  N8LAAA       NaN\n",
       "6454  17 years             Airbus A321-211  AGE (Feb 2001)  N169UW      A321\n",
       "6455  19 years              Boeing 737-824  AGE (Dec 1998)  N26226      B738\n",
       "6456  31 years              Boeing 767-332  AGE (Oct 1986)  N594HA      B763\n",
       "6457   5 years          Boeing 737-990(ER)  AGE (Apr 2013)  N423AS      B739\n",
       "6458       NaN                         NaN             NaN  N3BHAA       NaN"
      ]
     },
     "execution_count": 31,
     "metadata": {},
     "output_type": "execute_result"
    }
   ],
   "source": [
    "aircrafts.tail(20)"
   ]
  }
 ],
 "metadata": {
  "kernelspec": {
   "display_name": "Python [conda env:dsi]",
   "language": "python",
   "name": "conda-env-dsi-py"
  },
  "language_info": {
   "codemirror_mode": {
    "name": "ipython",
    "version": 3
   },
   "file_extension": ".py",
   "mimetype": "text/x-python",
   "name": "python",
   "nbconvert_exporter": "python",
   "pygments_lexer": "ipython3",
   "version": "3.6.5"
  }
 },
 "nbformat": 4,
 "nbformat_minor": 2
}
